{
 "cells": [
  {
   "cell_type": "code",
   "execution_count": 1,
   "metadata": {},
   "outputs": [
    {
     "name": "stdout",
     "output_type": "stream",
     "text": [
      "Alo Mundo!\n"
     ]
    }
   ],
   "source": [
    "print(\"Alo Mundo!\")"
   ]
  },
  {
   "cell_type": "markdown",
   "metadata": {},
   "source": [
    "#### Exercicios\n",
    "\n",
    "- Criar uma classe Produto.\n",
    "- Com uma função para calcular o valor total desse produto ."
   ]
  },
  {
   "cell_type": "markdown",
   "metadata": {},
   "source": [
    "#### Lista de Regras\n",
    "\n",
    "-  A classe é um conjunto de objetos.\n",
    "-  A classe agrupa objetos em comum.\n",
    "-  Essa classe possui um construtor    __init__\n",
    "-  A caracteristicas dos objetos são atributos.\n",
    "- O self acessa as caracteristicas e comportamentos da classe\n",
    "- Os métodos de trabalho (workers -Oziel Moreira Neto): são métodos para calcular, desenvolver a lógica de programação."
   ]
  },
  {
   "cell_type": "code",
   "execution_count": 1,
   "metadata": {},
   "outputs": [],
   "source": [
    "class Produto:\n",
    "\n",
    "    def __init__(self,qtde,preco):\n",
    "        self.qtde = qtde\n",
    "        self.preco = preco\n",
    "\n",
    "    def calcular_total(self):\n",
    "        return self.qtde * self.preco"
   ]
  },
  {
   "cell_type": "code",
   "execution_count": 2,
   "metadata": {},
   "outputs": [
    {
     "name": "stdout",
     "output_type": "stream",
     "text": [
      "O valor \n"
     ]
    }
   ],
   "source": [
    "p = Produto(qtde = 10, preco = 10)\n",
    "print (f'O valor ')\n",
    "\n"
   ]
  },
  {
   "cell_type": "markdown",
   "metadata": {},
   "source": [
    "### Desafio :\n",
    "\n",
    "- Analise o dataset aluguel.csv da aula passada.\n",
    "- Crie uma cclasse que representará o arquivo.\n",
    "-  Crie Três imóveis (objetos) que estão no dataset."
   ]
  },
  {
   "cell_type": "markdown",
   "metadata": {},
   "source": [
    "1 ° Importar os Pandas - ok\n",
    "#\n",
    "2 ° Analisar o dataset - ok\n",
    "#\n",
    "3 ° Pesquisar o cabeçalho -ok\n",
    "#\n",
    "4 ° Verificar colunas -ok\n",
    "#\n",
    "5 ° Escolher as colunas\n",
    "#\n",
    "6 ° Criar a classe - ok\n",
    "#\n",
    "7 ° Criar objeto com valores - ok"
   ]
  }
 ],
 "metadata": {
  "kernelspec": {
   "display_name": ".venv",
   "language": "python",
   "name": "python3"
  },
  "language_info": {
   "codemirror_mode": {
    "name": "ipython",
    "version": 3
   },
   "file_extension": ".py",
   "mimetype": "text/x-python",
   "name": "python",
   "nbconvert_exporter": "python",
   "pygments_lexer": "ipython3",
   "version": "3.12.4"
  }
 },
 "nbformat": 4,
 "nbformat_minor": 2
}
